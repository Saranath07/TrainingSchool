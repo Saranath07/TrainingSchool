{
 "cells": [
  {
   "cell_type": "code",
   "execution_count": 1,
   "metadata": {},
   "outputs": [],
   "source": [
    "from LLM import BaseLLM"
   ]
  },
  {
   "cell_type": "code",
   "execution_count": 2,
   "metadata": {},
   "outputs": [],
   "source": [
    "my_llm = BaseLLM()"
   ]
  },
  {
   "cell_type": "code",
   "execution_count": 3,
   "metadata": {},
   "outputs": [
    {
     "data": {
      "text/plain": [
       "'Here\\'s a basic outline of how you can create a training school in Python. This will be a simple console-based application that accepts a dataset and a task, then applies the necessary transformations and trains a model.\\n\\n```python\\n# Import necessary libraries\\nimport pandas as pd\\nfrom sklearn.model_selection import train_test_split\\nfrom sklearn.preprocessing import StandardScaler\\nfrom sklearn.ensemble import RandomForestClassifier, RandomForestRegressor\\nfrom sklearn.linear_model import LogisticRegression, LinearRegression\\nfrom sklearn.svm import SVC, SVR\\nfrom sklearn.metrics import accuracy_score, mean_squared_error\\nfrom sklearn.preprocessing import LabelEncoder\\n\\nclass TrainingSchool:\\n    def __init__(self, data, task):\\n        self.data = pd.read_csv(data)\\n        self.task = task\\n\\n    def transform_data(self):\\n        # Separate features and target\\n        X = self.data.drop(\\'target\\', axis=1)\\n        y = self.data[\\'target\\']\\n\\n        # Apply label encoding if target is categorical\\n        if self.task == \\'classification\\':\\n            le = LabelEncoder()\\n            y = le.fit_transform(y)\\n\\n        # Split data into training and testing sets\\n        self.X_train, self.X_test, self.y_train, self.y_test = train_test_split(X, y, test_size=0.2, random_state=42)\\n\\n        # Apply scaling\\n        scaler = StandardScaler()\\n        self.X_train = scaler.fit_transform(self.X_train)\\n        self.X_test = scaler.transform(self.X_test)\\n\\n    def train_model(self):\\n        if self.task == \\'classification\\':\\n            models = {\\n                \\'Random Forest Classifier\\': RandomForestClassifier(),\\n                \\'Logistic Regression\\': LogisticRegression(),\\n                \\'Support Vector Classifier\\': SVC()\\n            }\\n        elif self.task == \\'regression\\':\\n            models = {\\n                \\'Random Forest Regressor\\': RandomForestRegressor(),\\n                \\'Linear Regression\\': LinearRegression(),\\n                \\'Support Vector Regressor\\': SVR()\\n            }\\n\\n        results = {}\\n        for name, model in models.items():\\n            model.fit(self.X_train, self.y_train)\\n            if self.task == \\'classification\\':\\n                y_pred = model.predict(self.X_test)\\n                results[name] = accuracy_score(self.y_test, y_pred)\\n            elif self.task == \\'regression\\':\\n                y_pred = model.predict(self.X_test)\\n                results[name] = mean_squared_error(self.y_test, y_pred)\\n\\n        # Select the best model\\n        self.best_model_name = max(results, key=results.get)\\n        self.best_model = models[self.best_model_name]\\n\\n    def output_model(self):\\n        print(f\"The best model for the task is {self.best_model_name}\")\\n        print(\"Model details:\")\\n        print(self.best_model)\\n\\n# Example usage\\nschool = TrainingSchool(\\'data.csv\\', \\'classification\\')\\nschool.transform_data()\\nschool.train_model()\\nschool.output_model()\\n```\\n\\nThis code defines a `TrainingSchool` class that takes a dataset and a task as input. The `transform_data` method applies the necessary transformations to the data, including label encoding and scaling. The `train_model` method trains multiple models and selects the best one based on the task. The `output_model` method prints the details of the best model.\\n\\nPlease replace `\\'data.csv\\'` with the actual path to your dataset file. Also, make sure that your dataset has a column named `\\'target\\'` which represents the target variable. \\n\\nPlease note that this is a simplified example and might need to be adjusted to your specific needs. You might need to handle missing values, categorical variables, feature engineering, hyperparameter tuning, etc.'"
      ]
     },
     "execution_count": 3,
     "metadata": {},
     "output_type": "execute_result"
    }
   ],
   "source": [
    "response = my_llm.invoke(\"I wanted to create a Training school. This means based on the data points and the task I give which I provide it should understand it and do proper transformations, scaling, normalizations and then choose the best model and output the model. \")\n",
    "response.content"
   ]
  }
 ],
 "metadata": {
  "kernelspec": {
   "display_name": "usr",
   "language": "python",
   "name": "python3"
  },
  "language_info": {
   "codemirror_mode": {
    "name": "ipython",
    "version": 3
   },
   "file_extension": ".py",
   "mimetype": "text/x-python",
   "name": "python",
   "nbconvert_exporter": "python",
   "pygments_lexer": "ipython3",
   "version": "3.12.8"
  }
 },
 "nbformat": 4,
 "nbformat_minor": 2
}
